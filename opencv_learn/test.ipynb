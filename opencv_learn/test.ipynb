{
 "cells": [
  {
   "cell_type": "code",
   "execution_count": 1,
   "metadata": {},
   "outputs": [],
   "source": [
    "import cv2\n",
    "import numpy as np\n",
    "import random\n",
    "\n",
    "def img_cut():\n",
    "    file_name = r\"../img/paper0008-316\"\n",
    "    img = cv2.imread(file_name+\".jpg\")\n",
    "    img = cv2.resize(img , (0,0), fx=0.5, fy= 0.5)\n",
    "\n",
    "    kernel = np.ones((3,3),np.uint8)\n",
    "    gary = cv2.cvtColor(img, cv2.COLOR_BGR2GRAY)\n",
    "    blur = cv2.GaussianBlur(gary , (5,5), 2) # cv2.GaussianBlur(img,(核),標準差)\n",
    "    canny = cv2.Canny(blur, 200, 250) #cv2.Canny(img, min, max)\n",
    "    dilate = cv2.dilate(canny, kernel , iterations=3) #cv2.dilate(canny, 核 , iterations=次數)\n",
    "    twist = cv2.transpose(dilate) \n",
    "\n",
    "    raw_img_arr = np.array(img)\n",
    "    arr = np.array(dilate)\n",
    "    twist_arr = np.array(twist)\n",
    "    temp_id = 1\n",
    "    twist_temp = 0\n",
    "    twist_ls = []\n",
    "    vertical_interval = []\n",
    "    check = []\n",
    "\n",
    "    for index , value in enumerate(twist_arr):\n",
    "        unique, counts = np.unique(value, return_counts=True)\n",
    "        temp_dict = dict(zip(unique, counts))\n",
    "        try:\n",
    "            if temp_dict.get(255) < 50:\n",
    "                twist_ls.append(index)\n",
    "        except:\n",
    "            pass\n",
    "\n",
    "    vertical_interval.extend([twist_ls[:2],twist_ls[-2:]])\n",
    "\n",
    "    for v_interval in vertical_interval:\n",
    "        v_area = arr[:,v_interval[0]:v_interval[1]]\n",
    "        temp = 0\n",
    "        for index, value in enumerate(v_area):\n",
    "            if not(np.any(value)):\n",
    "                h_interval = index-temp\n",
    "                if h_interval > 50:\n",
    "                    print(v_interval)\n",
    "                    print(h_interval)\n",
    "                    print(temp, index)\n",
    "                    spilt_img = raw_img_arr[temp:index,v_interval[0]:v_interval[1]]\n",
    "                    cv2.imwrite(file_name+\"_\"+str(temp_id)+\".jpg\", spilt_img)\n",
    "                    temp_id += 1\n",
    "                elif h_interval > 5 and h_interval < 30:\n",
    "                    print(v_interval)\n",
    "                    print(h_interval)\n",
    "                    print(temp, index)\n",
    "                    if temp in check or index in check:\n",
    "                        continue\n",
    "                    else:\n",
    "                        spilt_img = raw_img_arr[temp:index,v_interval[0]:]\n",
    "                        cv2.imwrite(file_name+\"_\"+str(temp_id)+\".jpg\", spilt_img)\n",
    "                        temp_id += 1\n",
    "                    check.extend([temp, index])\n",
    "                temp = index\n"
   ]
  },
  {
   "cell_type": "code",
   "execution_count": 2,
   "metadata": {},
   "outputs": [
    {
     "name": "stdout",
     "output_type": "stream",
     "text": [
      "[219, 506]\n",
      "24\n",
      "101 125\n",
      "[219, 506]\n",
      "88\n",
      "135 223\n",
      "[219, 506]\n",
      "121\n",
      "281 402\n",
      "[219, 506]\n",
      "234\n",
      "411 645\n",
      "[219, 506]\n",
      "75\n",
      "653 728\n",
      "[219, 506]\n",
      "255\n",
      "732 987\n",
      "[219, 506]\n",
      "57\n",
      "993 1050\n",
      "[522, 807]\n",
      "25\n",
      "101 126\n",
      "[522, 807]\n",
      "26\n",
      "101 127\n",
      "[522, 807]\n",
      "27\n",
      "101 128\n",
      "[522, 807]\n",
      "28\n",
      "101 129\n",
      "[522, 807]\n",
      "29\n",
      "101 130\n",
      "[522, 807]\n",
      "244\n",
      "136 380\n",
      "[522, 807]\n",
      "279\n",
      "391 670\n",
      "[522, 807]\n",
      "370\n",
      "681 1051\n"
     ]
    }
   ],
   "source": [
    "img_cut()"
   ]
  }
 ],
 "metadata": {
<<<<<<< HEAD
=======
  "interpreter": {
   "hash": "cf92aa13fedf815d5c8dd192b8d835913fde3e8bc926b2a0ad6cc74ef2ba3ca2"
  },
>>>>>>> help
  "kernelspec": {
   "display_name": "Python 3.9.5 64-bit",
   "language": "python",
   "name": "python3"
  },
  "language_info": {
<<<<<<< HEAD
   "name": "python",
=======
   "codemirror_mode": {
    "name": "ipython",
    "version": 3
   },
   "file_extension": ".py",
   "mimetype": "text/x-python",
   "name": "python",
   "nbconvert_exporter": "python",
   "pygments_lexer": "ipython3",
>>>>>>> help
   "version": "3.9.5"
  },
  "orig_nbformat": 4,
  "vscode": {
   "interpreter": {
    "hash": "cf92aa13fedf815d5c8dd192b8d835913fde3e8bc926b2a0ad6cc74ef2ba3ca2"
   }
  }
 },
 "nbformat": 4,
 "nbformat_minor": 2
}
