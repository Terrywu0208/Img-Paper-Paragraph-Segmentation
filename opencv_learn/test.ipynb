{
 "cells": [
  {
   "cell_type": "code",
   "execution_count": null,
   "metadata": {},
   "outputs": [],
   "source": [
    "from operator import le\n",
    "import cv2\n",
    "import numpy as np\n",
    "import random\n",
    "\n",
    "def usual():\n",
    "    img = cv2.imread(r\"../img/paper0008-316.jpg\")\n",
    "    img = cv2.resize(img , (0,0), fx=0.5, fy= 0.5)\n",
    "    kernel = np.ones((3,3),np.uint8)\n",
    "\n",
    "    gary = cv2.cvtColor(img, cv2.COLOR_BGR2GRAY)\n",
    "    blur = cv2.GaussianBlur(img , (1,1), 2) # cv2.GaussianBlur(img,(核),標準差)\n",
    "    canny = cv2.Canny(img, 200, 250) #cv2.Canny(img, min, max)\n",
    "    dilate = cv2.dilate(canny, kernel , iterations=1) #cv2.dilate(canny, 核 , iterations=次數)\n",
    "    erode = cv2.erode(dilate, kernel, iterations=1)\n",
    "\n",
    "    # cv2.imshow(\"img\",img)\n",
    "    # cv2.imshow(\"gary\",gary)\n",
    "    # cv2.imshow(\"blur\",blur)\n",
    "    # cv2.imshow(\"canny\",canny)\n",
    "    # cv2.imshow(\"dilate\",dilate)\n",
    "    # cv2.imshow(\"erode\",erode)\n",
    "    # new = dilate[1]\n",
    "    # arr = np.array(dilate)\n",
    "    # arr = arr[100:237,220:505]\n",
    "    # arr = arr[142:186,220:505]\n",
    "    temp = []\n",
    "    # for i in range(len(arr)):\n",
    "    #     for j in range(len(arr[i])):\n",
    "    #         if 0 in arr[i][j]:\n",
    "    #             try:\n",
    "    #                 if (i - temp[-1]) >8:\n",
    "    #                     print(i,temp[-1])\n",
    "    #             except:\n",
    "    #                 pass\n",
    "    #             temp.append(i)\n",
    "            \n",
    "    # cv2.imshow(\"erode\",arr)\n",
    "    print(dilate[0][0])\n",
    "    print(img.shape)\n",
    "    # cv2.waitKey(0)\n",
    "        \n",
    "\n",
    "usual()"
   ]
  }
 ],
 "metadata": {
  "language_info": {
   "name": "python"
  },
  "orig_nbformat": 4
 },
 "nbformat": 4,
 "nbformat_minor": 2
}
